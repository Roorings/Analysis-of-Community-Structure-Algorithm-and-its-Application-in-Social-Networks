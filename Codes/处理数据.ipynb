{
 "cells": [
  {
   "cell_type": "code",
   "execution_count": 1,
   "id": "ef46f3ae",
   "metadata": {
    "ExecuteTime": {
     "end_time": "2022-05-05T02:35:58.948238Z",
     "start_time": "2022-05-05T02:35:57.511864Z"
    }
   },
   "outputs": [],
   "source": [
    "import sys\n",
    "import networkx as nx\n",
    "import numpy as np\n",
    "import pandas as pd\n",
    "import matplotlib.pyplot as plt\n",
    "import powerlaw"
   ]
  },
  {
   "cell_type": "code",
   "execution_count": 2,
   "id": "4ab461ee",
   "metadata": {
    "ExecuteTime": {
     "end_time": "2022-05-05T02:35:58.957406Z",
     "start_time": "2022-05-05T02:35:58.949822Z"
    }
   },
   "outputs": [],
   "source": [
    "result = []\n",
    "with open('com-dblp.top5000.cmty.txt','r') as f:\n",
    "    for line in f:\n",
    "        result.append(list(line.strip('\\n').split(',')))"
   ]
  },
  {
   "cell_type": "code",
   "execution_count": 3,
   "id": "ac4c0767",
   "metadata": {
    "ExecuteTime": {
     "end_time": "2022-05-05T02:35:58.981378Z",
     "start_time": "2022-05-05T02:35:58.958787Z"
    }
   },
   "outputs": [],
   "source": [
    "set5000 = []\n",
    "for i in range(len(result)):\n",
    "    tryy = ''.join(result[i])\n",
    "    a = set(tryy.split())\n",
    "    set5000.append(a)"
   ]
  },
  {
   "cell_type": "code",
   "execution_count": 4,
   "id": "0b6b7c57",
   "metadata": {
    "ExecuteTime": {
     "end_time": "2022-05-05T02:35:58.987752Z",
     "start_time": "2022-05-05T02:35:58.983409Z"
    }
   },
   "outputs": [],
   "source": [
    "sort5000 = sorted(set5000, key = len, reverse = True)"
   ]
  },
  {
   "cell_type": "code",
   "execution_count": null,
   "id": "dcea7d68",
   "metadata": {},
   "outputs": [],
   "source": []
  },
  {
   "cell_type": "code",
   "execution_count": 5,
   "id": "934b0d14",
   "metadata": {
    "ExecuteTime": {
     "end_time": "2022-05-05T02:36:05.692615Z",
     "start_time": "2022-05-05T02:35:58.988872Z"
    }
   },
   "outputs": [],
   "source": [
    "for i in range(5000):\n",
    "    for j in range(i+1,5000):\n",
    "        sort5000[j] = sort5000[j] - sort5000[i]"
   ]
  },
  {
   "cell_type": "code",
   "execution_count": 6,
   "id": "929fe3a2",
   "metadata": {
    "ExecuteTime": {
     "end_time": "2022-05-05T02:36:05.696958Z",
     "start_time": "2022-05-05T02:36:05.693890Z"
    }
   },
   "outputs": [],
   "source": [
    "final5000 = sorted(sort5000, key = len, reverse = True)"
   ]
  },
  {
   "cell_type": "code",
   "execution_count": 7,
   "id": "b95a14f5",
   "metadata": {
    "ExecuteTime": {
     "end_time": "2022-05-05T02:36:05.702329Z",
     "start_time": "2022-05-05T02:36:05.698113Z"
    }
   },
   "outputs": [
    {
     "data": {
      "text/plain": [
       "274"
      ]
     },
     "execution_count": 7,
     "metadata": {},
     "output_type": "execute_result"
    }
   ],
   "source": [
    "len(final5000[35])"
   ]
  },
  {
   "cell_type": "code",
   "execution_count": 8,
   "id": "9f415ce2",
   "metadata": {
    "ExecuteTime": {
     "end_time": "2022-05-05T02:36:05.706542Z",
     "start_time": "2022-05-05T02:36:05.703655Z"
    }
   },
   "outputs": [
    {
     "data": {
      "text/plain": [
       "37"
      ]
     },
     "execution_count": 8,
     "metadata": {},
     "output_type": "execute_result"
    }
   ],
   "source": [
    "len(final5000[75])"
   ]
  },
  {
   "cell_type": "code",
   "execution_count": 9,
   "id": "f8228b48",
   "metadata": {
    "ExecuteTime": {
     "end_time": "2022-05-05T02:36:05.710159Z",
     "start_time": "2022-05-05T02:36:05.707887Z"
    }
   },
   "outputs": [],
   "source": [
    "comsize = []\n",
    "for i in range(35,76):\n",
    "    comsize.append(len(final5000[i]))"
   ]
  },
  {
   "cell_type": "code",
   "execution_count": 10,
   "id": "41cd7e38",
   "metadata": {
    "ExecuteTime": {
     "end_time": "2022-05-05T02:36:05.723414Z",
     "start_time": "2022-05-05T02:36:05.712968Z"
    }
   },
   "outputs": [
    {
     "data": {
      "text/plain": [
       "[274,\n",
       " 256,\n",
       " 244,\n",
       " 222,\n",
       " 200,\n",
       " 197,\n",
       " 189,\n",
       " 183,\n",
       " 183,\n",
       " 177,\n",
       " 148,\n",
       " 141,\n",
       " 130,\n",
       " 116,\n",
       " 103,\n",
       " 94,\n",
       " 90,\n",
       " 86,\n",
       " 78,\n",
       " 76,\n",
       " 62,\n",
       " 62,\n",
       " 58,\n",
       " 53,\n",
       " 51,\n",
       " 47,\n",
       " 46,\n",
       " 46,\n",
       " 44,\n",
       " 44,\n",
       " 43,\n",
       " 42,\n",
       " 41,\n",
       " 41,\n",
       " 41,\n",
       " 40,\n",
       " 40,\n",
       " 39,\n",
       " 37,\n",
       " 37,\n",
       " 37]"
      ]
     },
     "execution_count": 10,
     "metadata": {},
     "output_type": "execute_result"
    }
   ],
   "source": [
    "comsize"
   ]
  },
  {
   "cell_type": "code",
   "execution_count": 11,
   "id": "d863d6d2",
   "metadata": {
    "ExecuteTime": {
     "end_time": "2022-05-05T02:36:06.198361Z",
     "start_time": "2022-05-05T02:36:05.724572Z"
    }
   },
   "outputs": [
    {
     "data": {
      "image/png": "[encoded data removed]",
      "text/plain": [
       "<Figure size 432x288 with 1 Axes>"
      ]
     },
     "metadata": {
      "needs_background": "light"
     },
     "output_type": "display_data"
    }
   ],
   "source": [
    "# Get 10 logarithmically spaced bins between kmin and kmax\n",
    "bin_edges = np.logspace(np.log10(37), np.log10(274), num=6)\n",
    "#nonpy包里用logspace就可以将区间取log分成十份\n",
    "\n",
    "# histogram the data into these bins\n",
    "density, _ = np.histogram(comsize, bins=bin_edges, density=True)\n",
    "\n",
    "# plot\n",
    "fig = plt.figure(figsize=(6,4))\n",
    "\n",
    "# \"x\" should be midpoint (IN LOG SPACE) of each bin\n",
    "log_be = np.log10(bin_edges)\n",
    "#先把bin.edges转成log下的数值\n",
    "x = 10**((log_be[1:] + log_be[:-1])/2)\n",
    "#x是每个区间的中点\n",
    "\n",
    "plt.loglog(x, density, marker='o', color = \"orange\", linestyle='-')\n",
    "plt.xlabel(r\"degree $k$\", fontsize=16)\n",
    "plt.ylabel(r\"$P(k)$\", fontsize=16)\n",
    "#plt.xlim(1,110)\n",
    "# Show the plot\n",
    "plt.show()"
   ]
  },
  {
   "cell_type": "code",
   "execution_count": 12,
   "id": "1fa006ab",
   "metadata": {
    "ExecuteTime": {
     "end_time": "2022-05-05T02:36:06.324863Z",
     "start_time": "2022-05-05T02:36:06.199458Z"
    }
   },
   "outputs": [
    {
     "ename": "NameError",
     "evalue": "name 'degrees2' is not defined",
     "output_type": "error",
     "traceback": [
      "\u001b[0;31m---------------------------------------------------------------------------\u001b[0m",
      "\u001b[0;31mNameError\u001b[0m                                 Traceback (most recent call last)",
      "\u001b[0;32m/var/folders/3v/6_mmhp1n1dv6rfnj1rf22h780000gn/T/ipykernel_38987/3476146640.py\u001b[0m in \u001b[0;36m<module>\u001b[0;34m\u001b[0m\n\u001b[1;32m      2\u001b[0m \u001b[0mG\u001b[0m \u001b[0;34m=\u001b[0m \u001b[0mnx\u001b[0m\u001b[0;34m.\u001b[0m\u001b[0mbarabasi_albert_graph\u001b[0m\u001b[0;34m(\u001b[0m\u001b[0;36m1000\u001b[0m\u001b[0;34m,\u001b[0m \u001b[0;36m10\u001b[0m\u001b[0;34m,\u001b[0m \u001b[0mseed\u001b[0m\u001b[0;34m=\u001b[0m\u001b[0;32mNone\u001b[0m\u001b[0;34m,\u001b[0m \u001b[0minitial_graph\u001b[0m\u001b[0;34m=\u001b[0m\u001b[0;32mNone\u001b[0m\u001b[0;34m)\u001b[0m\u001b[0;34m\u001b[0m\u001b[0;34m\u001b[0m\u001b[0m\n\u001b[1;32m      3\u001b[0m \u001b[0mdegrees\u001b[0m \u001b[0;34m=\u001b[0m \u001b[0;34m[\u001b[0m\u001b[0mG\u001b[0m\u001b[0;34m.\u001b[0m\u001b[0mdegree\u001b[0m\u001b[0;34m(\u001b[0m\u001b[0mnode\u001b[0m\u001b[0;34m)\u001b[0m \u001b[0;32mfor\u001b[0m \u001b[0mnode\u001b[0m \u001b[0;32min\u001b[0m \u001b[0mG\u001b[0m\u001b[0;34m]\u001b[0m\u001b[0;31m#把所有点的度拿出来放在一个list里面\u001b[0m\u001b[0;34m\u001b[0m\u001b[0;34m\u001b[0m\u001b[0m\n\u001b[0;32m----> 4\u001b[0;31m \u001b[0mfit\u001b[0m \u001b[0;34m=\u001b[0m \u001b[0mpowerlaw\u001b[0m\u001b[0;34m.\u001b[0m\u001b[0mFit\u001b[0m\u001b[0;34m(\u001b[0m\u001b[0mdegrees2\u001b[0m\u001b[0;34m,\u001b[0m \u001b[0mdiscrete\u001b[0m\u001b[0;34m=\u001b[0m\u001b[0;32mTrue\u001b[0m\u001b[0;34m)\u001b[0m\u001b[0;34m;\u001b[0m\u001b[0;34m\u001b[0m\u001b[0;34m\u001b[0m\u001b[0m\n\u001b[0m\u001b[1;32m      5\u001b[0m \u001b[0mFigCCDF\u001b[0m \u001b[0;34m=\u001b[0m \u001b[0mfit\u001b[0m\u001b[0;34m.\u001b[0m\u001b[0mplot_ccdf\u001b[0m\u001b[0;34m(\u001b[0m\u001b[0mcolor\u001b[0m\u001b[0;34m=\u001b[0m\u001b[0;34m'k'\u001b[0m\u001b[0;34m,\u001b[0m\u001b[0malpha\u001b[0m\u001b[0;34m=\u001b[0m\u001b[0;36m0.2\u001b[0m\u001b[0;34m,\u001b[0m \u001b[0mlw\u001b[0m\u001b[0;34m=\u001b[0m\u001b[0;36m8\u001b[0m\u001b[0;34m,\u001b[0m \u001b[0mlabel\u001b[0m\u001b[0;34m=\u001b[0m\u001b[0;34mr\"Empirical\"\u001b[0m\u001b[0;34m)\u001b[0m\u001b[0;34m;\u001b[0m\u001b[0;34m\u001b[0m\u001b[0;34m\u001b[0m\u001b[0m\n\u001b[1;32m      6\u001b[0m \u001b[0mfit\u001b[0m\u001b[0;34m.\u001b[0m\u001b[0mpower_law\u001b[0m\u001b[0;34m.\u001b[0m\u001b[0mplot_ccdf\u001b[0m\u001b[0;34m(\u001b[0m\u001b[0mcolor\u001b[0m\u001b[0;34m=\u001b[0m\u001b[0;34m'#b15928'\u001b[0m\u001b[0;34m,\u001b[0m \u001b[0mlinestyle\u001b[0m\u001b[0;34m=\u001b[0m\u001b[0;34m'--'\u001b[0m\u001b[0;34m,\u001b[0m \u001b[0mlw\u001b[0m\u001b[0;34m=\u001b[0m\u001b[0;36m3\u001b[0m\u001b[0;34m,\u001b[0m \u001b[0max\u001b[0m\u001b[0;34m=\u001b[0m\u001b[0mFigCCDF\u001b[0m\u001b[0;34m,\u001b[0m \u001b[0mlabel\u001b[0m\u001b[0;34m=\u001b[0m\u001b[0;34m\"Powerlaw Fit\"\u001b[0m\u001b[0;34m)\u001b[0m\u001b[0;34m;\u001b[0m\u001b[0;34m\u001b[0m\u001b[0;34m\u001b[0m\u001b[0m\n",
      "\u001b[0;31mNameError\u001b[0m: name 'degrees2' is not defined"
     ]
    }
   ],
   "source": [
    "#plot\n",
    "G = nx.barabasi_albert_graph(1000, 10, seed=None, initial_graph=None)\n",
    "degrees = [G.degree(node) for node in G]#把所有点的度拿出来放在一个list里面\n",
    "fit = powerlaw.Fit(degrees2, discrete=True);\n",
    "FigCCDF = fit.plot_ccdf(color='k',alpha=0.2, lw=8, label=r\"Empirical\");\n",
    "fit.power_law.plot_ccdf(color='#b15928', linestyle='--', lw=3, ax=FigCCDF, label=\"Powerlaw Fit\");\n",
    "\n",
    "# adjust the labels\n",
    "FigCCDF.set_ylabel(\"$p(X≥x)$\")\n",
    "FigCCDF.set_xlabel(\"k\")\n",
    "handles, labels = FigCCDF.get_legend_handles_labels()\n",
    "leg = FigCCDF.legend(handles, labels, loc=3)\n",
    "leg.draw_frame(True)"
   ]
  },
  {
   "cell_type": "code",
   "execution_count": null,
   "id": "b9c49a8e",
   "metadata": {
    "ExecuteTime": {
     "end_time": "2022-05-05T02:36:06.334150Z",
     "start_time": "2022-05-05T02:36:06.334140Z"
    }
   },
   "outputs": [],
   "source": [
    "final5000[35:76]"
   ]
  },
  {
   "cell_type": "code",
   "execution_count": null,
   "id": "d2fdd436",
   "metadata": {
    "ExecuteTime": {
     "end_time": "2022-05-05T02:36:06.335211Z",
     "start_time": "2022-05-05T02:36:06.335201Z"
    }
   },
   "outputs": [],
   "source": [
    "lstsub = []\n",
    "for i in range(35,76):\n",
    "    for every in iter(final5000[i]):\n",
    "        lstsub.append(int(every))\n",
    "#print(lstsub)\n",
    "#len(lstsub)"
   ]
  },
  {
   "cell_type": "code",
   "execution_count": null,
   "id": "7b598e11",
   "metadata": {
    "ExecuteTime": {
     "end_time": "2022-05-05T02:36:06.336281Z",
     "start_time": "2022-05-05T02:36:06.336271Z"
    }
   },
   "outputs": [],
   "source": [
    "G = nx.read_edgelist('com-dblp.ungraph.txt', comments='#',\n",
    "                     create_using=nx.Graph(), \n",
    "                     delimiter='\t', \n",
    "                     nodetype=int, \n",
    "                     encoding='utf-8')"
   ]
  },
  {
   "cell_type": "code",
   "execution_count": null,
   "id": "42903b70",
   "metadata": {
    "ExecuteTime": {
     "end_time": "2022-05-05T02:36:06.337373Z",
     "start_time": "2022-05-05T02:36:06.337364Z"
    }
   },
   "outputs": [],
   "source": [
    "H = G.subgraph(lstsub)"
   ]
  },
  {
   "cell_type": "code",
   "execution_count": null,
   "id": "dcaac5c2",
   "metadata": {
    "ExecuteTime": {
     "end_time": "2022-05-05T02:36:06.338253Z",
     "start_time": "2022-05-05T02:36:06.338243Z"
    }
   },
   "outputs": [],
   "source": [
    "len(H.nodes)"
   ]
  },
  {
   "cell_type": "code",
   "execution_count": null,
   "id": "e0ea00e9",
   "metadata": {
    "ExecuteTime": {
     "end_time": "2022-05-05T02:36:06.339015Z",
     "start_time": "2022-05-05T02:36:06.339003Z"
    }
   },
   "outputs": [],
   "source": [
    "H.degree()"
   ]
  },
  {
   "cell_type": "code",
   "execution_count": null,
   "id": "bc25b480",
   "metadata": {
    "ExecuteTime": {
     "end_time": "2022-05-05T02:36:06.339688Z",
     "start_time": "2022-05-05T02:36:06.339678Z"
    }
   },
   "outputs": [],
   "source": [
    "remove = [node for node,degree in H.degree() if degree < 1]\n",
    "#remove"
   ]
  },
  {
   "cell_type": "code",
   "execution_count": null,
   "id": "f4858e82",
   "metadata": {
    "ExecuteTime": {
     "end_time": "2022-05-05T02:36:06.340452Z",
     "start_time": "2022-05-05T02:36:06.340443Z"
    }
   },
   "outputs": [],
   "source": [
    "#nx.is_frozen(H)\n",
    "F = nx.Graph(H)\n",
    "nx.is_frozen(F)\n",
    "F.remove_nodes_from(remove)"
   ]
  },
  {
   "cell_type": "code",
   "execution_count": null,
   "id": "308ba781",
   "metadata": {
    "ExecuteTime": {
     "end_time": "2022-05-05T02:36:06.341153Z",
     "start_time": "2022-05-05T02:36:06.341145Z"
    }
   },
   "outputs": [],
   "source": [
    "print(len(F.nodes))\n",
    "print(len(F.edges))"
   ]
  },
  {
   "cell_type": "code",
   "execution_count": null,
   "id": "d395b361",
   "metadata": {
    "ExecuteTime": {
     "end_time": "2022-05-05T02:36:06.341730Z",
     "start_time": "2022-05-05T02:36:06.341722Z"
    }
   },
   "outputs": [],
   "source": [
    "#nx.write_edgelist(H,'real.txt')"
   ]
  },
  {
   "cell_type": "code",
   "execution_count": null,
   "id": "90b7e23f",
   "metadata": {
    "ExecuteTime": {
     "end_time": "2022-05-05T02:36:06.342520Z",
     "start_time": "2022-05-05T02:36:06.342510Z"
    }
   },
   "outputs": [],
   "source": [
    "l1 = sorted(list(map(int,F.nodes())))#原始节点 排序\n",
    "l2 = range(F.number_of_nodes())#新节点 排序\n",
    "##新老节点一一对应\n",
    "nodes = dict(map(lambda x,y:[x,y],l1,l2)) \n",
    "edge_list=[]\n",
    "for u,v in H.edges():\n",
    "    edge_list.append((nodes[int(u)],nodes[int(v)]))\n",
    "new_H=nx.Graph()\n",
    "new_H.add_edges_from(edge_list)\n",
    "nx.write_edgelist(new_H,'network_lianxu.txt',data=False)"
   ]
  },
  {
   "cell_type": "code",
   "execution_count": null,
   "id": "3a81851a",
   "metadata": {
    "ExecuteTime": {
     "end_time": "2022-05-05T02:36:06.343434Z",
     "start_time": "2022-05-05T02:36:06.343398Z"
    }
   },
   "outputs": [],
   "source": [
    "F.degree()\n",
    "degrees2 = [F.degree(node) for node in F]#把所有点的度拿出来放在一个list里面\n",
    "kmin = min(degrees)\n",
    "kmax = max(degrees)\n",
    "print(kmin, kmax)"
   ]
  },
  {
   "cell_type": "code",
   "execution_count": null,
   "id": "b9708942",
   "metadata": {
    "ExecuteTime": {
     "end_time": "2022-05-05T02:36:06.345151Z",
     "start_time": "2022-05-05T02:36:06.345141Z"
    }
   },
   "outputs": [],
   "source": [
    "#nodes"
   ]
  },
  {
   "cell_type": "code",
   "execution_count": null,
   "id": "3d772d5e",
   "metadata": {
    "ExecuteTime": {
     "end_time": "2022-05-05T02:36:06.346035Z",
     "start_time": "2022-05-05T02:36:06.346017Z"
    },
    "scrolled": true
   },
   "outputs": [],
   "source": [
    "#int(list(final5000[35])[0])"
   ]
  },
  {
   "cell_type": "code",
   "execution_count": null,
   "id": "b7717360",
   "metadata": {
    "ExecuteTime": {
     "end_time": "2022-05-05T02:36:06.346825Z",
     "start_time": "2022-05-05T02:36:06.346816Z"
    },
    "scrolled": false
   },
   "outputs": [],
   "source": [
    "#nodes.items()\n",
    "orders = list(nodes)\n",
    "membershipGN = []\n",
    "for k in range(len(orders)):\n",
    "    for i in range(35,76):\n",
    "        for j in range(len(final5000[i])):\n",
    "            if(orders[k] == int(list(final5000[i])[j])):\n",
    "                membershipGN.append(i-35)"
   ]
  },
  {
   "cell_type": "code",
   "execution_count": null,
   "id": "2ef994d3",
   "metadata": {
    "ExecuteTime": {
     "end_time": "2022-05-05T02:36:06.347871Z",
     "start_time": "2022-05-05T02:36:06.347863Z"
    }
   },
   "outputs": [],
   "source": [
    "membershipGN"
   ]
  },
  {
   "cell_type": "code",
   "execution_count": null,
   "id": "06d5192c",
   "metadata": {
    "ExecuteTime": {
     "end_time": "2022-05-05T02:36:06.348872Z",
     "start_time": "2022-05-05T02:36:06.348863Z"
    }
   },
   "outputs": [],
   "source": [
    "#orders = list(nodes)\n",
    "#type(orders[1])"
   ]
  },
  {
   "cell_type": "code",
   "execution_count": null,
   "id": "49f69182",
   "metadata": {
    "ExecuteTime": {
     "end_time": "2022-05-05T02:36:06.349766Z",
     "start_time": "2022-05-05T02:36:06.349757Z"
    }
   },
   "outputs": [],
   "source": [
    "len(membershipGN)"
   ]
  },
  {
   "cell_type": "code",
   "execution_count": null,
   "id": "2990e35b",
   "metadata": {
    "ExecuteTime": {
     "end_time": "2022-05-05T02:36:06.350976Z",
     "start_time": "2022-05-05T02:36:06.350966Z"
    }
   },
   "outputs": [],
   "source": [
    "membershipGNDF = pd.DataFrame(membershipGN)"
   ]
  },
  {
   "cell_type": "code",
   "execution_count": null,
   "id": "c493a9d5",
   "metadata": {
    "ExecuteTime": {
     "end_time": "2022-05-05T02:36:06.351598Z",
     "start_time": "2022-05-05T02:36:06.351590Z"
    }
   },
   "outputs": [],
   "source": [
    "membershipGNDF.to_csv('membershipGN.csv',index=False)"
   ]
  },
  {
   "cell_type": "code",
   "execution_count": null,
   "id": "735ca4cb",
   "metadata": {},
   "outputs": [],
   "source": []
  },
  {
   "cell_type": "code",
   "execution_count": null,
   "id": "73f4a939",
   "metadata": {},
   "outputs": [],
   "source": []
  },
  {
   "cell_type": "code",
   "execution_count": null,
   "id": "2dd51a45",
   "metadata": {},
   "outputs": [],
   "source": []
  },
  {
   "cell_type": "code",
   "execution_count": null,
   "id": "23194938",
   "metadata": {
    "ExecuteTime": {
     "end_time": "2022-05-05T02:36:06.352889Z",
     "start_time": "2022-05-05T02:36:06.352871Z"
    }
   },
   "outputs": [],
   "source": [
    "tryy = ''.join(result[1])\n",
    "print(tryy)"
   ]
  },
  {
   "cell_type": "code",
   "execution_count": null,
   "id": "840069ae",
   "metadata": {
    "ExecuteTime": {
     "end_time": "2022-05-05T02:36:06.353642Z",
     "start_time": "2022-05-05T02:36:06.353635Z"
    }
   },
   "outputs": [],
   "source": [
    "#set5000"
   ]
  },
  {
   "cell_type": "code",
   "execution_count": null,
   "id": "886231ca",
   "metadata": {
    "ExecuteTime": {
     "end_time": "2022-05-05T02:36:06.354553Z",
     "start_time": "2022-05-05T02:36:06.354544Z"
    }
   },
   "outputs": [],
   "source": [
    "#tryyy = set(result[0])\n",
    "#print(tryyy)"
   ]
  },
  {
   "cell_type": "code",
   "execution_count": null,
   "id": "7dc1c435",
   "metadata": {
    "ExecuteTime": {
     "end_time": "2022-05-05T02:36:06.355267Z",
     "start_time": "2022-05-05T02:36:06.355258Z"
    },
    "scrolled": true
   },
   "outputs": [],
   "source": [
    "a = set(tryy.split())\n",
    "print(a)\n",
    "len(a)"
   ]
  },
  {
   "cell_type": "code",
   "execution_count": null,
   "id": "ffb5cfc6",
   "metadata": {
    "ExecuteTime": {
     "end_time": "2022-05-05T02:36:06.356355Z",
     "start_time": "2022-05-05T02:36:06.356340Z"
    }
   },
   "outputs": [],
   "source": [
    "#print(result)"
   ]
  },
  {
   "cell_type": "code",
   "execution_count": null,
   "id": "b8ea1cdc",
   "metadata": {
    "ExecuteTime": {
     "end_time": "2022-05-05T02:36:06.357416Z",
     "start_time": "2022-05-05T02:36:06.357408Z"
    }
   },
   "outputs": [],
   "source": [
    "vv = []"
   ]
  },
  {
   "cell_type": "code",
   "execution_count": null,
   "id": "b78b5dd7",
   "metadata": {
    "ExecuteTime": {
     "end_time": "2022-05-05T02:36:06.358017Z",
     "start_time": "2022-05-05T02:36:06.358009Z"
    }
   },
   "outputs": [],
   "source": [
    "vv.append(a)"
   ]
  },
  {
   "cell_type": "code",
   "execution_count": null,
   "id": "5b003f30",
   "metadata": {
    "ExecuteTime": {
     "end_time": "2022-05-05T02:36:06.358816Z",
     "start_time": "2022-05-05T02:36:06.358808Z"
    }
   },
   "outputs": [],
   "source": [
    "print(vv)"
   ]
  },
  {
   "cell_type": "code",
   "execution_count": null,
   "id": "94030742",
   "metadata": {
    "ExecuteTime": {
     "end_time": "2022-05-05T02:36:06.359798Z",
     "start_time": "2022-05-05T02:36:06.359782Z"
    }
   },
   "outputs": [],
   "source": [
    "vv[1]"
   ]
  },
  {
   "cell_type": "code",
   "execution_count": null,
   "id": "e0a1d6f2",
   "metadata": {
    "ExecuteTime": {
     "end_time": "2022-05-05T02:36:06.360622Z",
     "start_time": "2022-05-05T02:36:06.360612Z"
    }
   },
   "outputs": [],
   "source": [
    "len(result)"
   ]
  },
  {
   "cell_type": "code",
   "execution_count": null,
   "id": "6581cf28",
   "metadata": {
    "ExecuteTime": {
     "end_time": "2022-05-05T02:36:06.361403Z",
     "start_time": "2022-05-05T02:36:06.361395Z"
    }
   },
   "outputs": [],
   "source": [
    "set5000"
   ]
  }
 ],
 "metadata": {
  "kernelspec": {
   "display_name": "Python 3 (ipykernel)",
   "language": "python",
   "name": "python3"
  },
  "language_info": {
   "codemirror_mode": {
    "name": "ipython",
    "version": 3
   },
   "file_extension": ".py",
   "mimetype": "text/x-python",
   "name": "python",
   "nbconvert_exporter": "python",
   "pygments_lexer": "ipython3",
   "version": "3.9.7"
  },
  "toc": {
   "base_numbering": 1,
   "nav_menu": {},
   "number_sections": true,
   "sideBar": true,
   "skip_h1_title": false,
   "title_cell": "Table of Contents",
   "title_sidebar": "Contents",
   "toc_cell": false,
   "toc_position": {},
   "toc_section_display": true,
   "toc_window_display": false
  },
  "varInspector": {
   "cols": {
    "lenName": 16,
    "lenType": 16,
    "lenVar": 40
   },
   "kernels_config": {
    "python": {
     "delete_cmd_postfix": "",
     "delete_cmd_prefix": "del ",
     "library": "var_list.py",
     "varRefreshCmd": "print(var_dic_list())"
    },
    "r": {
     "delete_cmd_postfix": ") ",
     "delete_cmd_prefix": "rm(",
     "library": "var_list.r",
     "varRefreshCmd": "cat(var_dic_list()) "
    }
   },
   "types_to_exclude": [
    "module",
    "function",
    "builtin_function_or_method",
    "instance",
    "_Feature"
   ],
   "window_display": false
  }
 },
 "nbformat": 4,
 "nbformat_minor": 5
}
