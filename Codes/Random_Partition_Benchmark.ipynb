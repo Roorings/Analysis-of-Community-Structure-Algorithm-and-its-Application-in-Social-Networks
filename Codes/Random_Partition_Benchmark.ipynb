{
 "cells": [
  {
   "cell_type": "code",
   "execution_count": 7,
   "id": "b4f1e551",
   "metadata": {
    "ExecuteTime": {
     "end_time": "2022-05-19T09:07:10.084267Z",
     "start_time": "2022-05-19T09:07:09.787573Z"
    }
   },
   "outputs": [],
   "source": [
    "import networkx as nx\n",
    "from sklearn.metrics.cluster import normalized_mutual_info_score  \n",
    "import igraph as ig                \n",
    "from igraph import*\n",
    "from networkx.algorithms.community import greedy_modularity_communities\n",
    "import pandas as pd"
   ]
  },
  {
   "cell_type": "code",
   "execution_count": 2,
   "id": "82878358",
   "metadata": {
    "ExecuteTime": {
     "end_time": "2022-05-19T09:02:51.880815Z",
     "start_time": "2022-05-19T09:02:51.865911Z"
    }
   },
   "outputs": [],
   "source": [
    "def network_community(community_list,G):    \n",
    "    #将节点标号从1开始转化为从0开始\n",
    "    community_list_new = []\n",
    "    for i in range(len(community_list)):\n",
    "        temp = []\n",
    "        nodes = community_list[i]\n",
    "        for j in nodes:\n",
    "            node = int(j-1)\n",
    "            temp.append(node)\n",
    "        community_list_new.append(temp)\n",
    "        \n",
    "    ##将社区划分列表转变成membership\n",
    "    membership = []\n",
    "    for k in range(0,len(G)):\n",
    "        membership.append(0)\n",
    "       \n",
    "    # 根据社团划分对membership赋值\n",
    "    for l in range(0,len(community_list_new)):\n",
    "        nodes = community_list_new[l]\n",
    "        for m in nodes:\n",
    "            membership[m] = l\n",
    "    for s in range(len(membership)):\n",
    "        membership[s] = membership[s]+1\n",
    "        \n",
    "    return membership"
   ]
  },
  {
   "cell_type": "code",
   "execution_count": 14,
   "id": "b89d78de",
   "metadata": {
    "ExecuteTime": {
     "end_time": "2022-04-27T02:35:34.958511Z",
     "start_time": "2022-04-27T02:19:36.459481Z"
    }
   },
   "outputs": [
    {
     "name": "stdout",
     "output_type": "stream",
     "text": [
      "end\n",
      "0.9927808368643738\n",
      "1.0\n",
      "end\n",
      "0.9887408883889319\n",
      "1.0\n",
      "end\n",
      "0.9888472424435815\n",
      "1.0\n",
      "end\n",
      "0.9756356205022942\n",
      "1.0\n",
      "end\n",
      "0.9508941209805848\n",
      "0.9991141611680561\n",
      "end\n",
      "0.881314093498885\n",
      "0.9431632058242277\n",
      "end\n",
      "0.7945827579351492\n",
      "0.4393733576184201\n",
      "end\n",
      "0.6405366394320718\n",
      "0.0\n",
      "end\n",
      "0.3877322429257967\n",
      "0.0\n",
      "end\n",
      "0.19609680859441847\n",
      "0.0\n",
      "end\n",
      "0.06971399497178618\n",
      "0.0\n",
      "end\n",
      "0.03976490621757745\n",
      "0.0\n",
      "end\n",
      "0.024539035159907713\n",
      "0.0\n",
      "end\n",
      "0.017834018024622096\n",
      "0.0\n"
     ]
    }
   ],
   "source": [
    "lstin = []\n",
    "lstfg = []\n",
    "for j in range(1,15):\n",
    "    pin = 0.38 - 0.02 * j\n",
    "    pout = 4 / 600 + 4 / 600 * j\n",
    "    avein = 0\n",
    "    avefg = 0\n",
    "    for k in range(20):\n",
    "        G = nx.random_partition_graph([50, 50, 50, 50], pin, pout, directed = False)\n",
    "        partition = G.graph[\"partition\"]\n",
    "        #len(partition)\n",
    "        #print(partition)\n",
    "        lstRP = [list(x) for x in partition]\n",
    "        membershipRP = network_community(lstRP,G)\n",
    "        communitiesFG = greedy_modularity_communities(G, weight=None, resolution=1, n_communities=1)\n",
    "        lstFG = [list(x) for x in communitiesFG]\n",
    "        membershipFG = network_community(lstFG,G)\n",
    "        origin_edges = nx.to_edgelist(G)\n",
    "        new_list = []\n",
    "        for edge_i in range(0,len(origin_edges)):\n",
    "            node_dict = list(origin_edges)[edge_i]\n",
    "            new_list.append([node_dict[0],node_dict[1]])\n",
    "\n",
    "        g = Graph(new_list)  \n",
    "        h1 = g.community_infomap()\n",
    "        community_list_new = list(h1)\n",
    "\n",
    "        list(community_list_new).remove(community_list_new[0])  \n",
    "\n",
    "        membershipINFOMAP = network_community(community_list_new,G)\n",
    "        #print(compare_communities(membershipINFOMAP, membershipRP, method='nmi', remove_none=False))\n",
    "        #print(compare_communities(membershipFG, membershipRP, method='nmi', remove_none=False))\n",
    "        avein = avein + compare_communities(membershipINFOMAP, membershipRP, method='nmi', remove_none=False)\n",
    "        avefg = avefg + compare_communities(membershipFG, membershipRP, method='nmi', remove_none=False)\n",
    "    print('end')\n",
    "    print(avefg/20)\n",
    "    print(avein/20)\n",
    "    lstfg.append(avefg/20)\n",
    "    lstin.append(avein/20)\n"
   ]
  },
  {
   "cell_type": "code",
   "execution_count": 8,
   "id": "c6acbdf5",
   "metadata": {
    "ExecuteTime": {
     "end_time": "2022-05-19T09:07:15.493359Z",
     "start_time": "2022-05-19T09:07:15.474271Z"
    }
   },
   "outputs": [],
   "source": [
    "G = nx.random_partition_graph([50, 50, 50, 50], 0.36, 1/75, directed = False)\n",
    "origin_edges = nx.to_edgelist(G)\n",
    "origin_edges = pd.DataFrame(origin_edges)\n",
    "origin_edges.to_csv('try.csv',index=False)"
   ]
  },
  {
   "cell_type": "code",
   "execution_count": 10,
   "id": "b2b36077",
   "metadata": {
    "ExecuteTime": {
     "end_time": "2022-04-26T10:07:03.431198Z",
     "start_time": "2022-04-26T10:07:03.428398Z"
    }
   },
   "outputs": [
    {
     "name": "stdout",
     "output_type": "stream",
     "text": [
      "[1.0, 1.0, 0.9991141611680561, 0.9973424835041683, 0.9982283223361123, 0.9929131980180397, 0.9804747523024714, 0.9403509957908496, 0.8576907983309733, 0.6228079728806636, 0.21905643247734158, 0.08137093980546002, 0.03518708353854837, 0.01878933037289389]\n"
     ]
    }
   ],
   "source": [
    "print(lstfg)"
   ]
  },
  {
   "cell_type": "code",
   "execution_count": 5,
   "id": "3f4949d0",
   "metadata": {
    "ExecuteTime": {
     "end_time": "2022-04-26T09:20:05.153397Z",
     "start_time": "2022-04-26T09:20:01.220607Z"
    }
   },
   "outputs": [
    {
     "name": "stdout",
     "output_type": "stream",
     "text": [
      "0.982283223361122\n",
      "0.6876476641364992\n"
     ]
    }
   ],
   "source": [
    " G = nx.random_partition_graph([50, 50, 50, 50], 0.28, 0.0533, directed = False)\n",
    "partition = G.graph[\"partition\"]\n",
    "#len(partition)\n",
    "#print(partition)\n",
    "lstRP = [list(x) for x in partition]\n",
    "membershipRP = network_community(lstRP,G)\n",
    "communitiesFG = greedy_modularity_communities(G, weight=None, resolution=1, n_communities=1)\n",
    "lstFG = [list(x) for x in communitiesFG]\n",
    "membershipFG = network_community(lstFG,G)\n",
    "origin_edges = nx.to_edgelist(G)\n",
    "new_list = []\n",
    "for edge_i in range(0,len(origin_edges)):\n",
    "    node_dict = list(origin_edges)[edge_i]\n",
    "    new_list.append([node_dict[0],node_dict[1]])\n",
    "\n",
    "g = Graph(new_list)  \n",
    "h1 = g.community_infomap()\n",
    "community_list_new = list(h1)\n",
    "\n",
    "list(community_list_new).remove(community_list_new[0])  \n",
    "\n",
    "membershipINFOMAP = network_community(community_list_new,G)\n",
    "print(compare_communities(membershipINFOMAP, membershipRP, method='nmi', remove_none=False))\n",
    "print(compare_communities(membershipFG, membershipRP, method='nmi', remove_none=False))\n"
   ]
  },
  {
   "cell_type": "code",
   "execution_count": null,
   "id": "ea6665e0",
   "metadata": {},
   "outputs": [],
   "source": []
  }
 ],
 "metadata": {
  "kernelspec": {
   "display_name": "Python 3 (ipykernel)",
   "language": "python",
   "name": "python3"
  },
  "language_info": {
   "codemirror_mode": {
    "name": "ipython",
    "version": 3
   },
   "file_extension": ".py",
   "mimetype": "text/x-python",
   "name": "python",
   "nbconvert_exporter": "python",
   "pygments_lexer": "ipython3",
   "version": "3.9.7"
  },
  "toc": {
   "base_numbering": 1,
   "nav_menu": {},
   "number_sections": true,
   "sideBar": true,
   "skip_h1_title": false,
   "title_cell": "Table of Contents",
   "title_sidebar": "Contents",
   "toc_cell": false,
   "toc_position": {},
   "toc_section_display": true,
   "toc_window_display": false
  },
  "varInspector": {
   "cols": {
    "lenName": 16,
    "lenType": 16,
    "lenVar": 40
   },
   "kernels_config": {
    "python": {
     "delete_cmd_postfix": "",
     "delete_cmd_prefix": "del ",
     "library": "var_list.py",
     "varRefreshCmd": "print(var_dic_list())"
    },
    "r": {
     "delete_cmd_postfix": ") ",
     "delete_cmd_prefix": "rm(",
     "library": "var_list.r",
     "varRefreshCmd": "cat(var_dic_list()) "
    }
   },
   "position": {
    "height": "299.85px",
    "left": "787.6px",
    "right": "20px",
    "top": "169px",
    "width": "350px"
   },
   "types_to_exclude": [
    "module",
    "function",
    "builtin_function_or_method",
    "instance",
    "_Feature"
   ],
   "window_display": false
  }
 },
 "nbformat": 4,
 "nbformat_minor": 5
}
